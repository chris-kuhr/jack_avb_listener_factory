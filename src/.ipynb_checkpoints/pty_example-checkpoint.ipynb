{
 "cells": [
  {
   "cell_type": "code",
   "execution_count": 1,
   "metadata": {},
   "outputs": [
    {
     "name": "stderr",
     "output_type": "stream",
     "text": [
      "usage: ipykernel_launcher.py [-h] [-a] [-p] [filename]\n",
      "ipykernel_launcher.py: error: unrecognized arguments: -f\n"
     ]
    },
    {
     "ename": "SystemExit",
     "evalue": "2",
     "output_type": "error",
     "traceback": [
      "An exception has occurred, use %tb to see the full traceback.\n",
      "\u001b[0;31mSystemExit\u001b[0m\u001b[0;31m:\u001b[0m 2\n"
     ]
    },
    {
     "name": "stderr",
     "output_type": "stream",
     "text": [
      "/usr/local/lib/python3.5/dist-packages/IPython/core/interactiveshell.py:3304: UserWarning: To exit: use 'exit', 'quit', or Ctrl-D.\n",
      "  warn(\"To exit: use 'exit', 'quit', or Ctrl-D.\", stacklevel=1)\n"
     ]
    }
   ],
   "source": [
    "import argparse\n",
    "import os\n",
    "import pty\n",
    "import sys\n",
    "import time\n",
    "\n",
    "parser = argparse.ArgumentParser()\n",
    "parser.add_argument('-a', dest='append', action='store_true')\n",
    "parser.add_argument('-p', dest='use_python', action='store_true')\n",
    "parser.add_argument('filename', nargs='?', default='typescript')\n",
    "options = parser.parse_args()\n",
    "\n",
    "shell = sys.executable if options.use_python else os.environ.get('SHELL', 'sh')\n",
    "filename = options.filename\n",
    "mode = 'ab' if options.append else 'wb'\n",
    "\n",
    "with open(filename, mode) as script:\n",
    "    def read(fd):\n",
    "        data = os.read(fd, 1024)\n",
    "        script.write(data)\n",
    "        return data\n",
    "\n",
    "    print('Script started, file is', filename)\n",
    "    script.write(('Script started on %s\\n' % time.asctime()).encode())\n",
    "\n",
    "    pty.spawn(shell, read)\n",
    "\n",
    "    script.write(('Script done on %s\\n' % time.asctime()).encode())\n",
    "    print('Script done, file is', filename)"
   ]
  },
  {
   "cell_type": "code",
   "execution_count": null,
   "metadata": {},
   "outputs": [],
   "source": []
  }
 ],
 "metadata": {
  "kernelspec": {
   "display_name": "Python 3",
   "language": "python",
   "name": "python3"
  },
  "language_info": {
   "codemirror_mode": {
    "name": "ipython",
    "version": 3
   },
   "file_extension": ".py",
   "mimetype": "text/x-python",
   "name": "python",
   "nbconvert_exporter": "python",
   "pygments_lexer": "ipython3",
   "version": "3.5.2"
  }
 },
 "nbformat": 4,
 "nbformat_minor": 2
}
